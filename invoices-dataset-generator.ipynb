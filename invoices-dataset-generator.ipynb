{
 "cells": [
  {
   "cell_type": "code",
   "execution_count": 1,
   "id": "b7f137b8",
   "metadata": {},
   "outputs": [
    {
     "name": "stdout",
     "output_type": "stream",
     "text": [
      "Requirement already satisfied: faker in c:\\users\\canka\\anaconda3\\anaconda\\lib\\site-packages (11.3.0)\n",
      "Requirement already satisfied: python-dateutil>=2.4 in c:\\users\\canka\\anaconda3\\anaconda\\lib\\site-packages (from faker) (2.8.1)\n",
      "Requirement already satisfied: text-unidecode==1.3 in c:\\users\\canka\\anaconda3\\anaconda\\lib\\site-packages (from faker) (1.3)\n",
      "Requirement already satisfied: six>=1.5 in c:\\users\\canka\\anaconda3\\anaconda\\lib\\site-packages (from python-dateutil>=2.4->faker) (1.15.0)\n",
      "Note: you may need to restart the kernel to use updated packages.\n"
     ]
    }
   ],
   "source": [
    "pip install faker"
   ]
  },
  {
   "cell_type": "code",
   "execution_count": 2,
   "id": "c5373339",
   "metadata": {},
   "outputs": [],
   "source": [
    "from faker import Faker\n",
    "\n",
    "RECORD_COUNT = 10000\n",
    "fake = Faker()"
   ]
  },
  {
   "cell_type": "code",
   "execution_count": 49,
   "id": "3b78fc7a",
   "metadata": {},
   "outputs": [],
   "source": [
    "def create_csv_file():\n",
    "    with open('invoices.csv', 'w', newline='') as csvfile:\n",
    "        fieldnames = ['first_name', 'last_name', 'email', 'product_id', 'qty',\n",
    "                      'amount', 'invoice_date', 'address', 'city', 'stock_code',\n",
    "                      'job']\n",
    "        writer = csv.DictWriter(csvfile, fieldnames=fieldnames)\n",
    "\n",
    "        writer.writeheader()\n",
    "        for i in range(RECORD_COUNT):\n",
    "            writer.writerow(\n",
    "                {\n",
    "                    'first_name': fake.name(),\n",
    "                    'last_name': fake.name(),\n",
    "                    'email': fake.email(),\n",
    "                    'product_id': fake.random_int(min=100, max=199),\n",
    "                    'qty': fake.random_int(min=1, max=9),\n",
    "                    'amount': float(Decimal(random.randrange(500, 10000))/100),\n",
    "                    'invoice_date': fake.date(),\n",
    "                    'address': fake.street_address(),\n",
    "                    'city': fake.city(),\n",
    "                    'stock_code': fake.ean(length=8),\n",
    "                    'job': fake.job()\n",
    "                }\n",
    "            )"
   ]
  },
  {
   "cell_type": "code",
   "execution_count": 50,
   "id": "a30bbc36",
   "metadata": {},
   "outputs": [],
   "source": [
    "def get_totals():\n",
    "    qty_total = 0\n",
    "    amount_total = 0\n",
    "    with open('invoices.csv', 'r', newline='') as csvfile:\n",
    "        reader = csv.reader(csvfile, delimiter=',')\n",
    "        for row in reader:\n",
    "            if row[4] != 'qty':\n",
    "                qty = int(row[4])\n",
    "                qty_total += qty\n",
    "\n",
    "                amount = float(row[5])\n",
    "                amount_total += amount\n",
    "    return qty_total, amount_total"
   ]
  },
  {
   "cell_type": "code",
   "execution_count": 51,
   "id": "f62766c6",
   "metadata": {},
   "outputs": [],
   "source": [
    "import csv\n",
    "import random\n",
    "from time import time\n",
    "from decimal import Decimal\n",
    "from faker import Faker"
   ]
  },
  {
   "cell_type": "code",
   "execution_count": 52,
   "id": "2caae340",
   "metadata": {},
   "outputs": [
    {
     "name": "stdout",
     "output_type": "stream",
     "text": [
      "created csv file time: 5.054126739501953\n",
      "got totals time: 0.04951119422912598\n",
      "qty: 50059\n",
      "amount: 529182.3600000003\n"
     ]
    }
   ],
   "source": [
    "if __name__ == '__main__':\n",
    "    start = time()\n",
    "    create_csv_file()\n",
    "    elapsed = time() - start\n",
    "    print('created csv file time: {}'.format(elapsed))\n",
    "\n",
    "    start = time()\n",
    "    qty_total, amount_total = get_totals()\n",
    "    elapsed = time() - start\n",
    "    print('got totals time: {}'.format(elapsed))\n",
    "\n",
    "    print('qty: {}'.format(qty_total))\n",
    "    print('amount: {}'.format(amount_total))"
   ]
  },
  {
   "cell_type": "code",
   "execution_count": null,
   "id": "16e31d47",
   "metadata": {},
   "outputs": [],
   "source": []
  }
 ],
 "metadata": {
  "kernelspec": {
   "display_name": "Python 3",
   "language": "python",
   "name": "python3"
  },
  "language_info": {
   "codemirror_mode": {
    "name": "ipython",
    "version": 3
   },
   "file_extension": ".py",
   "mimetype": "text/x-python",
   "name": "python",
   "nbconvert_exporter": "python",
   "pygments_lexer": "ipython3",
   "version": "3.8.8"
  }
 },
 "nbformat": 4,
 "nbformat_minor": 5
}
