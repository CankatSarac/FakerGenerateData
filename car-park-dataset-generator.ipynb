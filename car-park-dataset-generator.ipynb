{
 "cells": [
  {
   "cell_type": "code",
   "execution_count": 35,
   "id": "bd6d8310",
   "metadata": {},
   "outputs": [
    {
     "name": "stdout",
     "output_type": "stream",
     "text": [
      "Requirement already satisfied: faker in c:\\users\\canka\\anaconda3\\anaconda\\lib\\site-packages (11.3.0)\n",
      "Requirement already satisfied: text-unidecode==1.3 in c:\\users\\canka\\anaconda3\\anaconda\\lib\\site-packages (from faker) (1.3)\n",
      "Requirement already satisfied: python-dateutil>=2.4 in c:\\users\\canka\\anaconda3\\anaconda\\lib\\site-packages (from faker) (2.8.1)\n",
      "Requirement already satisfied: six>=1.5 in c:\\users\\canka\\anaconda3\\anaconda\\lib\\site-packages (from python-dateutil>=2.4->faker) (1.15.0)\n",
      "Note: you may need to restart the kernel to use updated packages.\n"
     ]
    }
   ],
   "source": [
    "pip install faker"
   ]
  },
  {
   "cell_type": "code",
   "execution_count": 36,
   "id": "8452ba77",
   "metadata": {},
   "outputs": [],
   "source": [
    "from faker import Faker\n",
    "\n",
    "RECORD_COUNT = 10000\n",
    "fake = Faker()\n",
    "fakeTR = Faker(\"tr_TR\")\n"
   ]
  },
  {
   "cell_type": "code",
   "execution_count": 46,
   "id": "2ed8a3f0",
   "metadata": {},
   "outputs": [],
   "source": [
    "def create_csv_file():\n",
    "    with open('car_park.csv', 'w', newline='' ,encoding=\"utf-8\") as csvfile:\n",
    "        fieldnames = ['name', 'license_plate', 'car-color','register-car-qty',\n",
    "                      'job', 'register_date', 'company',\"birth-date\"]\n",
    "        writer = csv.DictWriter(csvfile, fieldnames=fieldnames)\n",
    "\n",
    "        writer.writeheader()\n",
    "        for i in range(RECORD_COUNT):\n",
    "            writer.writerow(\n",
    "                {\n",
    "                    'name': fakeTR.name(),\n",
    "                    'license_plate': fakeTR.license_plate(),\n",
    "                    'car-color': fake.color_name(),\n",
    "                    'register-car-qty': fake.random_int(min=1, max=3),\n",
    "                    'job': fakeTR.job(),\n",
    "                    'register_date': fake.date_this_year(),\n",
    "                    'company': fakeTR.company(),\n",
    "                    \"birth-date\": fakeTR.date_of_birth()\n",
    "                    \n",
    "                }\n",
    "            )"
   ]
  },
  {
   "cell_type": "code",
   "execution_count": 47,
   "id": "ccd9ed33",
   "metadata": {},
   "outputs": [],
   "source": [
    "import csv\n",
    "import random\n",
    "from time import time\n",
    "from decimal import Decimal\n",
    "from faker import Faker"
   ]
  },
  {
   "cell_type": "code",
   "execution_count": 48,
   "id": "34d1233e",
   "metadata": {},
   "outputs": [],
   "source": [
    "def get_totals():\n",
    "    qty_total = 0\n",
    "    amount_total = 0\n",
    "    with open('car_park.csv', 'r', newline='') as csvfile:\n",
    "        reader = csv.reader(csvfile, delimiter=',')\n",
    "        for row in reader:\n",
    "            if row[3] != 'qty':\n",
    "                qty = int(row[3])\n",
    "                qty_total += qty\n",
    "\n",
    "    return qty_total"
   ]
  },
  {
   "cell_type": "code",
   "execution_count": 49,
   "id": "97bd135f",
   "metadata": {},
   "outputs": [
    {
     "name": "stdout",
     "output_type": "stream",
     "text": [
      "created csv file time: 1.653548002243042\n",
      "got totals time: 0.0\n"
     ]
    }
   ],
   "source": [
    "if __name__ == '__main__':\n",
    "    start = time()\n",
    "    create_csv_file()\n",
    "    elapsed = time() - start\n",
    "    print('created csv file time: {}'.format(elapsed))\n",
    "\n",
    "    start = time()\n",
    "    elapsed = time() - start\n",
    "    print('got totals time: {}'.format(elapsed))"
   ]
  },
  {
   "cell_type": "code",
   "execution_count": null,
   "id": "4fd24f95",
   "metadata": {},
   "outputs": [],
   "source": []
  }
 ],
 "metadata": {
  "kernelspec": {
   "display_name": "Python 3",
   "language": "python",
   "name": "python3"
  },
  "language_info": {
   "codemirror_mode": {
    "name": "ipython",
    "version": 3
   },
   "file_extension": ".py",
   "mimetype": "text/x-python",
   "name": "python",
   "nbconvert_exporter": "python",
   "pygments_lexer": "ipython3",
   "version": "3.8.8"
  }
 },
 "nbformat": 4,
 "nbformat_minor": 5
}
