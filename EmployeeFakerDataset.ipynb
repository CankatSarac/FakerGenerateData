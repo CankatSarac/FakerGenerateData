{
  "nbformat": 4,
  "nbformat_minor": 0,
  "metadata": {
    "colab": {
      "provenance": []
    },
    "kernelspec": {
      "name": "python3",
      "display_name": "Python 3"
    },
    "language_info": {
      "name": "python"
    }
  },
  "cells": [
    {
      "cell_type": "code",
      "source": [
        "pip install Faker"
      ],
      "metadata": {
        "colab": {
          "base_uri": "https://localhost:8080/"
        },
        "id": "Rhn4ZALeFaxW",
        "outputId": "789cf787-3632-4cbc-d8d9-2d131b50be80"
      },
      "execution_count": 5,
      "outputs": [
        {
          "output_type": "stream",
          "name": "stdout",
          "text": [
            "Looking in indexes: https://pypi.org/simple, https://us-python.pkg.dev/colab-wheels/public/simple/\n",
            "Requirement already satisfied: Faker in /usr/local/lib/python3.9/dist-packages (18.3.1)\n",
            "Requirement already satisfied: python-dateutil>=2.4 in /usr/local/lib/python3.9/dist-packages (from Faker) (2.8.2)\n",
            "Requirement already satisfied: six>=1.5 in /usr/local/lib/python3.9/dist-packages (from python-dateutil>=2.4->Faker) (1.16.0)\n"
          ]
        }
      ]
    },
    {
      "cell_type": "code",
      "execution_count": 7,
      "metadata": {
        "id": "JQa-mpkrFZPu"
      },
      "outputs": [],
      "source": [
        "import csv\n",
        "from faker import Faker\n",
        "\n",
        "fake = Faker()\n",
        "\n",
        "def generate_employee_records(num_employees):\n",
        "    employee_records = []\n",
        "\n",
        "    for _ in range(num_employees):\n",
        "        employee = {\n",
        "            'employee_id': fake.unique.random_number(digits=6, fix_len=True),\n",
        "            'name': fake.name(),\n",
        "            'job_title': fake.job(),\n",
        "            'department': fake.bs().split()[-1],\n",
        "            'email': fake.company_email(),\n",
        "            'phone_number': fake.phone_number(),\n",
        "            'date_of_hiring': fake.date_between(start_date='-10y', end_date='today').strftime('%Y-%m-%d'),\n",
        "            'salary': fake.random_int(min=30000, max=150000)\n",
        "        }\n",
        "        employee_records.append(employee)\n",
        "\n",
        "    return employee_records\n",
        "\n",
        "def write_employee_records_to_csv(employee_records, filename):\n",
        "    with open(filename, 'w', newline='') as csvfile:\n",
        "        fieldnames = ['employee_id', 'name', 'job_title', 'department', 'email', 'phone_number', 'date_of_hiring', 'salary']\n",
        "        writer = csv.DictWriter(csvfile, fieldnames=fieldnames)\n",
        "\n",
        "        writer.writeheader()\n",
        "        for employee in employee_records:\n",
        "            writer.writerow(employee)\n",
        "\n",
        "if __name__ == '__main__':\n",
        "    num_employees = 2000  # Change this value to generate a dataset with a different number of employees\n",
        "    employee_records = generate_employee_records(num_employees)\n",
        "    write_employee_records_to_csv(employee_records, 'employee_records.csv')\n"
      ]
    },
    {
      "cell_type": "code",
      "source": [],
      "metadata": {
        "id": "1xqDM3trFdUS"
      },
      "execution_count": 6,
      "outputs": []
    }
  ]
}